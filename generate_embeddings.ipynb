{
 "cells": [
  {
   "cell_type": "code",
   "execution_count": 12,
   "id": "caa99940-0177-4184-b04b-e75bc2ab51d7",
   "metadata": {},
   "outputs": [],
   "source": [
    "#Laad credentials and import relevant packages\n",
    "import sys, os\n",
    "\n",
    "# Make sure the current notebook's folder is searched first\n",
    "notebook_dir = os.path.abspath(\"\")\n",
    "if notebook_dir not in sys.path:\n",
    "    sys.path.insert(0, notebook_dir)"
   ]
  },
  {
   "cell_type": "code",
   "execution_count": 14,
   "id": "50b4a682-dfc8-4ae5-83aa-980ffba376ed",
   "metadata": {},
   "outputs": [],
   "source": [
    "# from google.auth.transport.requests import Request\n",
    "# from google.oauth2.service_account import Credentials"
   ]
  },
  {
   "cell_type": "code",
   "execution_count": 16,
   "id": "4914ddd7-41ac-40ab-b1f4-af765b01479d",
   "metadata": {},
   "outputs": [],
   "source": [
    "# Get credentials and project ID\n",
    "# from utils import authenticate\n",
    "# credentials, PROJECT_ID = authenticate()"
   ]
  },
  {
   "cell_type": "code",
   "execution_count": 20,
   "id": "f6395ed2-3127-42af-855a-8ba6efab89c6",
   "metadata": {},
   "outputs": [],
   "source": [
    "# Create credentials object\n",
    "\n",
    "# credentials = Credentials.from_service_account_file(\n",
    "#     key_path,\n",
    "#     scopes=['https://www.googleapis.com/auth/cloud-platform'])\n",
    "\n",
    "# if credentials.expired:\n",
    "#     credentials.refresh(Request())"
   ]
  },
  {
   "cell_type": "code",
   "execution_count": 22,
   "id": "401ce5f1-2f72-4583-aee9-60a6be26be4c",
   "metadata": {},
   "outputs": [],
   "source": [
    "# PROJECT_ID = 'chatbot-ai-463712'\n",
    "# REGION = 'us-central1'"
   ]
  },
  {
   "cell_type": "code",
   "execution_count": 24,
   "id": "46dac362-5ea5-472c-9bd5-ba3c71f57f62",
   "metadata": {},
   "outputs": [],
   "source": [
    "import pandas as pd\n",
    "import numpy as np\n",
    "# from vertexai.language_models import TextEmbeddingModel\n",
    "# import vertexai\n",
    "\n",
    "# # Initialize Vertex AI (replace with your project and region)\n",
    "# vertexai.init(project=PROJECT_ID, location=REGION, credentials = credentials)\n",
    "\n",
    "# model = TextEmbeddingModel.from_pretrained(\"text-embedding-005\")"
   ]
  },
  {
   "cell_type": "code",
   "execution_count": 14,
   "id": "af1383c8-53c0-4fea-9835-f90c3a1e4971",
   "metadata": {},
   "outputs": [
    {
     "name": "stdout",
     "output_type": "stream",
     "text": [
      "Shape: (1499, 3)\n"
     ]
    },
    {
     "data": {
      "application/vnd.jupyter.widget-view+json": {
       "model_id": "a8454d930e8b477da11ef02826669d74",
       "version_major": 2,
       "version_minor": 0
      },
      "text/plain": [
       "Batches:   0%|          | 0/47 [00:00<?, ?it/s]"
      ]
     },
     "metadata": {},
     "output_type": "display_data"
    },
    {
     "data": {
      "application/vnd.jupyter.widget-view+json": {
       "model_id": "9b358c2a3f494acab6de19239464f0a9",
       "version_major": 2,
       "version_minor": 0
      },
      "text/plain": [
       "Batches:   0%|          | 0/47 [00:00<?, ?it/s]"
      ]
     },
     "metadata": {},
     "output_type": "display_data"
    },
    {
     "name": "stdout",
     "output_type": "stream",
     "text": [
      "<class 'list'>\n",
      "384\n"
     ]
    }
   ],
   "source": [
    "import pandas as pd\n",
    "import numpy as np\n",
    "from sentence_transformers import SentenceTransformer\n",
    "\n",
    "df = pd.read_csv(\"BankFAQs.csv\")\n",
    "print(\"Shape: \" + str(df.shape))\n",
    "\n",
    "# Create embeddings of Questions and another embeddings of question and answers seperately\n",
    "df.dropna(subset=['Question', 'Answer'], inplace=True)\n",
    "\n",
    "#New coloumn for the combined embedding\n",
    "df['Combined'] = df['Question'] + \" \" + df['Answer']\n",
    "\n",
    "questions = df['Question'].tolist()\n",
    "combined = df['Combined'].tolist()\n",
    "\n",
    "# Load local model\n",
    "local_model = SentenceTransformer('sentence-transformers/all-MiniLM-L6-v2')  # 384-dim\n",
    "\n",
    "# Generate embeddings\n",
    "df['question_embedding'] = local_model.encode(questions, show_progress_bar=True).tolist()\n",
    "df['combined_embedding'] = local_model.encode(combined, show_progress_bar=True).tolist()\n",
    "\n",
    "# Save locally\n",
    "df.to_pickle(\"bankfaqs_with_local_embeddings.pkl\")"
   ]
  },
  {
   "cell_type": "code",
   "execution_count": 20,
   "id": "6367c1ea-8ef7-47a3-9612-6b9e45c48ea3",
   "metadata": {},
   "outputs": [],
   "source": [
    "from sklearn.metrics.pairwise import cosine_similarity\n",
    "\n",
    "df = pd.read_pickle(\"bankfaqs_with_local_embeddings.pkl\")\n",
    "model = SentenceTransformer('all-MiniLM-L6-v2')\n",
    "\n",
    "def get_best_match(user_query: str, df: pd.DataFrame, model: SentenceTransformer, use_combined=False):\n",
    "    # Embed user query\n",
    "    query_embedding = model.encode([user_query])[0].reshape(1, -1)\n",
    "    \n",
    "    # Choose which embeddings to use\n",
    "    if use_combined:\n",
    "        corpus_embeddings = np.vstack(df['combined_embedding'].values)\n",
    "    else:\n",
    "        corpus_embeddings = np.vstack(df['question_embedding'].values)\n",
    "    \n",
    "    # Compute cosine similarity\n",
    "    similarities = cosine_similarity(query_embedding, corpus_embeddings)[0]\n",
    "    \n",
    "    # Get the top result\n",
    "    top_idx = np.argmax(similarities)\n",
    "    matched_question = df.iloc[top_idx]['Question']\n",
    "    matched_answer = df.iloc[top_idx]['Answer']\n",
    "    score = similarities[top_idx]\n",
    "    \n",
    "    return matched_question, matched_answer, score\n"
   ]
  },
  {
   "cell_type": "code",
   "execution_count": 24,
   "id": "8c14926c-f5cc-4393-886f-71deedf4db00",
   "metadata": {},
   "outputs": [
    {
     "name": "stdout",
     "output_type": "stream",
     "text": [
      "Matched Question: What is the procedure to follow if my Debit Card PIN is blocked\n",
      "Answer: Please note that if you enter an incorrect PIN three times in the ATM, your access gets blocked for security reasons. It gets activated after 24 hours. Kindly use your Debit / ATM Card at the ATM after 24 hours with the same PIN available with you. If your account still remains inaccessible, please apply for new PIN. You can apply for regeneration of your ATM / Debit PIN in following ways: Fill-up the new PIN application form and submit it at any of our branches. On receipt of the form and successful verification, we will process a new ATM PIN and send it to your mailing address, as registered in our records. Submit a request at PhoneBanking, after validation with your Telephone Identification Number (TIN). For every PIN Regeneration request, charges of Rs. 50 + Service Tax + Educational Cess is applicable. For more details, Contact Us View more\n",
      "Similarity Score: 0.7117532768559258\n"
     ]
    }
   ],
   "source": [
    "#Semantic Search\n",
    "#Part1: Cosine Similarity of query and question\n",
    "#Part2: if the query of consumer is vague, we will use the combined for added context\n",
    "\n",
    "query = \"How can I block my debit card if it's stolen?\"\n",
    "question, answer, score = get_best_match(query, df, model, use_combined=False)\n",
    "\n",
    "print(\"Matched Question:\", question)\n",
    "print(\"Answer:\", answer)\n",
    "print(\"Similarity Score:\", score)"
   ]
  }
 ],
 "metadata": {
  "kernelspec": {
   "display_name": "Python [conda env:base] *",
   "language": "python",
   "name": "conda-base-py"
  },
  "language_info": {
   "codemirror_mode": {
    "name": "ipython",
    "version": 3
   },
   "file_extension": ".py",
   "mimetype": "text/x-python",
   "name": "python",
   "nbconvert_exporter": "python",
   "pygments_lexer": "ipython3",
   "version": "3.12.7"
  }
 },
 "nbformat": 4,
 "nbformat_minor": 5
}
